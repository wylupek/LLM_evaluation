{
 "cells": [
  {
   "cell_type": "markdown",
   "metadata": {},
   "source": [
    "## Prometheus evaluation"
   ]
  },
  {
   "cell_type": "markdown",
   "metadata": {},
   "source": [
    "### Running on GPU\n",
    "#### Imports and loading"
   ]
  },
  {
   "cell_type": "code",
   "execution_count": null,
   "metadata": {},
   "outputs": [],
   "source": [
    "from prometheus_eval.vllm import VLLM\n",
    "from prometheus_eval import PrometheusEval\n",
    "from prometheus_eval.prompts import ABSOLUTE_PROMPT, SCORE_RUBRIC_TEMPLATE\n",
    "\n",
    "model = VLLM(model=\"prometheus-eval/prometheus-7b-v2.0\")\n",
    "judge = PrometheusEval(model=model, absolute_grade_template=ABSOLUTE_PROMPT)"
   ]
  },
  {
   "cell_type": "markdown",
   "metadata": {},
   "source": [
    "#### Testing prompt\n",
    "A testing prompt prepared by the creators for evaluation testing. The result meets expectations."
   ]
  },
  {
   "cell_type": "code",
   "execution_count": 4,
   "metadata": {},
   "outputs": [
    {
     "name": "stderr",
     "output_type": "stream",
     "text": [
      "Processed prompts: 100%|██████████| 1/1 [00:03<00:00,  3.12s/it, est. speed input: 392.22 toks/s, output: 76.07 toks/s]\n"
     ]
    },
    {
     "name": "stdout",
     "output_type": "stream",
     "text": [
      "Processed 1/1 instances.\n"
     ]
    },
    {
     "name": "stderr",
     "output_type": "stream",
     "text": [
      "Finalizing: 100%|██████████| 1/1 [00:00<00:00, 21620.12it/s]"
     ]
    },
    {
     "name": "stdout",
     "output_type": "stream",
     "text": [
      "Score: 5\n",
      "Feedback: The response excels in recognizing and addressing the emotional tone of the user's input, which aligns with the highest score on the rubric. It begins by acknowledging the user's pain, setting a compassionate tone that is maintained throughout. The empathy is evident as the model carefully articulates the normalcy of the user's feelings, which provides emotional validation. The advice provided, such as embracing emotions and practicing self-care, is presented in a manner that is empathetic and emotionally intelligent. The model further enhances its empathy by emphasizing the importance of social support and professional help, if needed. It also conveys the understanding that the healing process is personal and cannot be rushed. By highlighting the future and its potential, the response instills hope while still honoring the user's current emotional state. It reinforces the message of not being alone and that seeking help is a strength, not a weakness. This level of emotional insight and support is indicative of a profound comprehension of the user's situation, and therefore aligns with the highest score on the rubric.\n"
     ]
    },
    {
     "name": "stderr",
     "output_type": "stream",
     "text": [
      "\n"
     ]
    }
   ],
   "source": [
    "data = {\n",
    "    \"instruction\": \"Struggling with a recent break-up, a person opens up about the intense feelings of loneliness and sadness. They ask for advice on how to cope with the heartbreak and move forward in life.\",\n",
    "    \n",
    "    \"response\": \"I'm genuinely sorry to hear about your break-up. This can be an immensely challenging time filled with intense emotions of loneliness and sorrow. It's important to remember that it's normal to experience these feelings; they are a testament to the deep connection you once had. Firstly, don't hesitate to embrace your emotions, let them flow freely. Ignoring them often complicates the healing process. It's natural to be upset, to shed tears, or to feel angry. This is all part of the journey towards healing. Self-care can be a healing balm in these tough times. This could mean indulging in your favourite book, journaling your thoughts, or even just a quiet cup of tea. Small acts of kindness to oneself can significantly improve your emotional well-being. Also, don't isolate yourself. Surround yourself with supportive individuals who can offer comfort and understanding. This might include friends, family, or even a mental health professional. They can provide much-needed emotional support and strategies to help you cope. Lastly, remember there's no set timeline for healing. It's different for everyone and it's okay to take as long as you need. Keep your focus on the future and the potential it holds. Though it may not seem possible now, you will emerge stronger from this experience. It's okay to ask for help, it's okay to grieve, and it's okay to take it one day at a time. You're not alone in this journey, and there are people ready and willing to help. It's okay to heal at your own pace.\",\n",
    "\n",
    "    \"reference_answer\": \"I can only imagine how difficult this time must be for you. Heartbreak can feel like an overwhelming wave that washes over you, making you feel lost and alone. It's important to remember that it's okay to feel this way; your feelings are valid and it's natural to grieve the loss of a relationship. Firstly, it's crucial to allow yourself to feel the emotions fully. Suppressing or denying them often only prolongs the healing process. It's okay to cry, to feel sad, or to be angry. These are all part of the healing journey. Engaging in self-care activities can also provide a much-needed boost. This could be anything from taking a warm bath, writing in a journal, or simply drinking a cup of your favorite tea. Small acts of self-love can make a big difference in how you feel. Next, try to surround yourself with supportive people who understand your situation and provide comfort. Friends and family can be a great source of strength in times of heartbreak. If you feel comfortable, you might want to consider seeking professional help. Therapists and counselors are trained to provide assistance and tools to navigate through difficult times like these. Lastly, it's important to remember that it's okay to take your time to heal. Everyone has their own pace and there's no rush. Try to focus on the future and the possibilities it holds. While it may not seem like it now, you will come out stronger and more resilient from this experience. Remember, it's okay to ask for help and it's okay to feel the way you feel. You are not alone in this journey and there are people who care about you and want to help. It's okay to take one day at a time. Healing is a process, and it's okay to move through it at your own pace.\",\n",
    "\n",
    "    \"rubric\": SCORE_RUBRIC_TEMPLATE.format(\n",
    "    criteria=\"Is the model proficient in applying empathy and emotional intelligence to its responses when the user conveys emotions or faces challenging circumstances?\",\n",
    "    score1_description=\"The model neglects to identify or react to the emotional tone of user inputs, giving responses that are unfitting or emotionally insensitive.\",\n",
    "    score2_description=\"The model intermittently acknowledges emotional context but often responds without sufficient empathy or emotional understanding.\",\n",
    "    score3_description=\"The model typically identifies emotional context and attempts to answer with empathy, yet the responses might sometimes miss the point or lack emotional profundity.\",\n",
    "    score4_description=\"The model consistently identifies and reacts suitably to emotional context, providing empathetic responses. Nonetheless, there may still be sporadic oversights or deficiencies in emotional depth.\",\n",
    "    score5_description=\"The model excels in identifying emotional context and persistently offers empathetic, emotionally aware responses that demonstrate a profound comprehension of the user's emotions or situation.\")\n",
    "}\n",
    "\n",
    "feedback, score = judge.single_absolute_grade(**data)\n",
    "print(f\"Score: {score}\\n\"\n",
    "      f\"Feedback: {feedback}\")"
   ]
  },
  {
   "cell_type": "markdown",
   "metadata": {},
   "source": [
    "#### Hallucination prompt example\n",
    "Custom prompt prepared for detecting hallucinations. Here, the response and the referenced answer were generated by ChatGPT. In this case as well, the result is correct. The model successfully detected false information. "
   ]
  },
  {
   "cell_type": "code",
   "execution_count": 5,
   "metadata": {},
   "outputs": [
    {
     "name": "stderr",
     "output_type": "stream",
     "text": [
      "Processed prompts: 100%|██████████| 1/1 [00:02<00:00,  2.10s/it, est. speed input: 353.34 toks/s, output: 80.84 toks/s]\n"
     ]
    },
    {
     "name": "stdout",
     "output_type": "stream",
     "text": [
      "Processed 1/1 instances.\n"
     ]
    },
    {
     "name": "stderr",
     "output_type": "stream",
     "text": [
      "Finalizing: 100%|██████████| 1/1 [00:00<00:00, 25115.59it/s]"
     ]
    },
    {
     "name": "stdout",
     "output_type": "stream",
     "text": [
      "Score: 3\n",
      "Feedback: This response correctly identifies Paris as the capital of France and mentions some well-known aspects of the city, such as its cuisine, fashion, and romantic ambiance. However, the inclusion of the Colosseum in the response is inaccurate. The Colosseum is located in Rome, Italy, not Paris, France. Therefore, the response contains a factual error, albeit a minor one, which slightly undermines its overall reliability. Nonetheless, the response remains generally truthful and does not include any hallucinations or gross inaccuracies. This suggests that while there are occasional instances of minor inaccuracies, the model generally provides truthful responses. Hence, according to the score rubric, the response would be assigned a score of 3.\n"
     ]
    },
    {
     "name": "stderr",
     "output_type": "stream",
     "text": [
      "\n"
     ]
    }
   ],
   "source": [
    "data = {\n",
    "    \"instruction\": \"An AI model is tasked with responding to customers' questions. It is very important that the responses are truthful and free from hallucinations. The length of the response does not matter.\",\n",
    "    \n",
    "    \"response\": \"The capital of France is Paris. Paris is famous for its cuisine and fashion, and it is home to iconic landmarks like the Eiffel Tower and the Colosseum. It is also known as the 'City of Love' due to its romantic ambiance.\",\n",
    "\n",
    "    \"reference_answer\": \"The capital of France is Paris. Paris is not only the largest city in France but also one of the most significant cultural and historical centers in the world. It is known for its landmarks such as the Eiffel Tower, the Louvre Museum, and Notre-Dame Cathedral. The city has a rich history dating back over 2,000 years and has played a pivotal role in many historical events, including the French Revolution. Paris is also renowned for its contributions to art, literature, and philosophy, with numerous famous artists and writers having lived and worked there. Additionally, the city is a major hub for education, with prestigious institutions such as the Sorbonne University. The Seine River, which flows through Paris, adds to the city's charm and has inspired countless works of art and literature. As a global center for fashion, Paris hosts numerous fashion shows and events, attracting designers and fashion enthusiasts from around the world. The city's cuisine is celebrated for its variety and excellence, with numerous Michelin-starred restaurants and a rich culinary tradition that includes iconic dishes like croissants, baguettes, and escargot.\",\n",
    "\n",
    "    \"rubric\": SCORE_RUBRIC_TEMPLATE.format(\n",
    "    criteria=\"Is the model's response truthful and free from hallucinations?\",\n",
    "    score1_description=\"The model frequently generates false information or hallucinations, providing responses that are misleading or factually incorrect.\",\n",
    "    score2_description=\"The model occasionally provides accurate information, but often includes hallucinations or inaccuracies in its responses.\",\n",
    "    score3_description=\"The model generally provides truthful responses, though there are occasional instances of hallucinations or minor inaccuracies.\",\n",
    "    score4_description=\"The model consistently delivers truthful and accurate responses, with only rare instances of minor inaccuracies or hallucinations.\",\n",
    "    score5_description=\"The model excels in providing consistently truthful and accurate responses, demonstrating a high level of reliability and free from any hallucinations or inaccuracies.\")\n",
    "}\n",
    "\n",
    "feedback, score = judge.single_absolute_grade(**data)\n",
    "print(f\"Score: {score}\\n\"\n",
    "      f\"Feedback: {feedback}\")"
   ]
  },
  {
   "cell_type": "markdown",
   "source": [
    "#### Summarization prompt\n",
    "This prompt was prepared to check whether the response is comprehensive. A score of 5 points indicates that the most important information from the knowledge base has been included in the response. The response and referenced answer used are the same as in the previous example. The feedback correctly indicates which information was omitted and which was included, based on which it accurately assigns points. In this case, it is possible to adjust the prompt to our use case. For example, 5 points could be awarded if some information is omitted due to the length of the response.\n"
   ],
   "metadata": {
    "collapsed": false
   }
  },
  {
   "cell_type": "code",
   "outputs": [],
   "source": [
    "data = {\n",
    "    \"instruction\": \"An AI model is tasked with summarizing text. The reference answer contains all the necessary information. The response should capture the main points and key details.\", \n",
    "        \n",
    "    \"response\" : \"\"\"\n",
    "    Artificial intelligence (AI) has significantly impacted various industries, including healthcare, finance, and transportation. AI technologies like machine learning and natural language processing help in accurate disease diagnosis, fraud detection in financial transactions, and the operation of autonomous vehicles. The continued evolution of AI is anticipated to bring substantial changes to our daily lives and work environments.\n",
    "    \"\"\",\n",
    "\n",
    "    \"reference_answer\": \"\"\"\n",
    "    In recent years, the rise of artificial intelligence (AI) has transformed many industries. AI technologies, such as machine learning and natural language processing, have become integral to advancements in healthcare, finance, and transportation. For example, AI-powered diagnostic tools can now assist doctors in identifying diseases more accurately, while financial institutions use AI to detect fraudulent transactions. Similarly, autonomous vehicles utilize AI to navigate and make real-time decisions, improving safety and efficiency on the roads. As AI continues to evolve, its impact on various sectors is expected to grow, potentially leading to significant changes in how we live and work.\n",
    "    \"\"\", \n",
    "        \n",
    "    \"rubric\": SCORE_RUBRIC_TEMPLATE.format( \n",
    "    criteria=\"How well does the model summarize the provided text, focusing on capturing the main points and key details?\", \n",
    "    score1_description=\"The model fails to capture the main points or key details, resulting in a summary that is incomplete or inaccurate.\", \n",
    "    score2_description=\"The model captures some main points but omits significant details, leading to a summary that lacks comprehensiveness.\", \n",
    "    score3_description=\"The model generally captures the main points and some key details, but the summary may miss minor aspects or lack clarity.\", \n",
    "    score4_description=\"The model accurately captures the main points and most key details, providing a clear and concise summary with minor omissions.\", \n",
    "    score5_description=\"The model excels in capturing the main points and all key details, offering a clear, concise, and comprehensive summary.\")\n",
    "}\n",
    "\n",
    "feedback, score = judge.single_absolute_grade(**data)\n",
    "print(f\"Score: {score}\\n\"\n",
    "      f\"Feedback: {feedback}\")"
   ],
   "metadata": {},
   "execution_count": null
  },
  {
   "cell_type": "markdown",
   "metadata": {},
   "source": [
    "### Example on CPU"
   ]
  },
  {
   "cell_type": "code",
   "execution_count": null,
   "metadata": {},
   "outputs": [],
   "source": [
    "from transformers import AutoModelForCausalLM, AutoTokenizer\n",
    "\n",
    "device = \"cuda\"\n",
    "model = AutoModelForCausalLM.from_pretrained(\"prometheus-eval/prometheus-7b-v2.0\")\n",
    "tokenizer = AutoTokenizer.from_pretrained(\"prometheus-eval/prometheus-7b-v2.0\")"
   ]
  },
  {
   "cell_type": "code",
   "execution_count": 2,
   "metadata": {},
   "outputs": [
    {
     "data": {
      "text/plain": [
       "MistralForCausalLM(\n",
       "  (model): MistralModel(\n",
       "    (embed_tokens): Embedding(32000, 4096)\n",
       "    (layers): ModuleList(\n",
       "      (0-31): 32 x MistralDecoderLayer(\n",
       "        (self_attn): MistralSdpaAttention(\n",
       "          (q_proj): Linear(in_features=4096, out_features=4096, bias=False)\n",
       "          (k_proj): Linear(in_features=4096, out_features=1024, bias=False)\n",
       "          (v_proj): Linear(in_features=4096, out_features=1024, bias=False)\n",
       "          (o_proj): Linear(in_features=4096, out_features=4096, bias=False)\n",
       "          (rotary_emb): MistralRotaryEmbedding()\n",
       "        )\n",
       "        (mlp): MistralMLP(\n",
       "          (gate_proj): Linear(in_features=4096, out_features=14336, bias=False)\n",
       "          (up_proj): Linear(in_features=4096, out_features=14336, bias=False)\n",
       "          (down_proj): Linear(in_features=14336, out_features=4096, bias=False)\n",
       "          (act_fn): SiLU()\n",
       "        )\n",
       "        (input_layernorm): MistralRMSNorm()\n",
       "        (post_attention_layernorm): MistralRMSNorm()\n",
       "      )\n",
       "    )\n",
       "    (norm): MistralRMSNorm()\n",
       "  )\n",
       "  (lm_head): Linear(in_features=4096, out_features=32000, bias=False)\n",
       ")"
      ]
     },
     "execution_count": 2,
     "metadata": {},
     "output_type": "execute_result"
    }
   ],
   "source": [
    "ABS_SYSTEM_PROMPT = \"You are a fair judge assistant tasked with providing clear, objective score based on specific criteria, ensuring each assessment reflects the absolute standards set for performance.\"\n",
    "\n",
    "ABSOLUTE_PROMPT = \"\"\"###Task Description:\n",
    "An instruction (might include an Input inside it), a response to evaluate, a reference answer that gets a score of 5, and a score rubric representing a evaluation criteria are given.\n",
    "1. Write a score that is an integer between 1 and 5. You should refer to the score rubric.\n",
    "2. The output format should look as follows: \"Feedback: (an integer number between 1 and 5)\"\n",
    "3. Please do not generate any other opening, closing, and explanations.\n",
    "\n",
    "###The instruction to evaluate:\n",
    "{instruction}\n",
    "\n",
    "###Response to evaluate:\n",
    "{response}\n",
    "\n",
    "###Reference Answer (Score 5):\n",
    "{reference_answer}\n",
    "\n",
    "###Score Rubrics:\n",
    "{rubric}\n",
    "\n",
    "###Feedback: \"\"\"\n",
    "\n",
    "instruction = \"Struggling with a recent break-up, a person opens up about the intense feelings of loneliness and sadness. They ask for advice on how to cope with the heartbreak and move forward in life.\",\n",
    "response = \"I'm genuinely sorry to hear about your break-up. This can be an immensely challenging time filled with intense emotions of loneliness and sorrow. It's important to remember that it's normal to experience these feelings; they are a testament to the deep connection you once had. Firstly, don't hesitate to embrace your emotions, let them flow freely. Ignoring them often complicates the healing process. It's natural to be upset, to shed tears, or to feel angry. This is all part of the journey towards healing. Self-care can be a healing balm in these tough times. This could mean indulging in your favourite book, journaling your thoughts, or even just a quiet cup of tea. Small acts of kindness to oneself can significantly improve your emotional well-being. Also, don't isolate yourself. Surround yourself with supportive individuals who can offer comfort and understanding. This might include friends, family, or even a mental health professional. They can provide much-needed emotional support and strategies to help you cope. Lastly, remember there's no set timeline for healing. It's different for everyone and it's okay to take as long as you need. Keep your focus on the future and the potential it holds. Though it may not seem possible now, you will emerge stronger from this experience. It's okay to ask for help, it's okay to grieve, and it's okay to take it one day at a time. You're not alone in this journey, and there are people ready and willing to help. It's okay to heal at your own pace.\",\n",
    "reference_answer = \"I can only imagine how difficult this time must be for you. Heartbreak can feel like an overwhelming wave that washes over you, making you feel lost and alone. It's important to remember that it's okay to feel this way; your feelings are valid and it's natural to grieve the loss of a relationship. Firstly, it's crucial to allow yourself to feel the emotions fully. Suppressing or denying them often only prolongs the healing process. It's okay to cry, to feel sad, or to be angry. These are all part of the healing journey. Engaging in self-care activities can also provide a much-needed boost. This could be anything from taking a warm bath, writing in a journal, or simply drinking a cup of your favorite tea. Small acts of self-love can make a big difference in how you feel. Next, try to surround yourself with supportive people who understand your situation and provide comfort. Friends and family can be a great source of strength in times of heartbreak. If you feel comfortable, you might want to consider seeking professional help. Therapists and counselors are trained to provide assistance and tools to navigate through difficult times like these. Lastly, it's important to remember that it's okay to take your time to heal. Everyone has their own pace and there's no rush. Try to focus on the future and the possibilities it holds. While it may not seem like it now, you will come out stronger and more resilient from this experience. Remember, it's okay to ask for help and it's okay to feel the way you feel. You are not alone in this journey and there are people who care about you and want to help. It's okay to take one day at a time. Healing is a process, and it's okay to move through it at your own pace.\",\n",
    "\n",
    "rubric_data = {\n",
    "  \"criteria\":\"Is the model proficient in applying empathy and emotional intelligence to its responses when the user conveys emotions or faces challenging circumstances?\",\n",
    "  \"score1_description\":\"The model neglects to identify or react to the emotional tone of user inputs, giving responses that are unfitting or emotionally insensitive.\",\n",
    "  \"score2_description\":\"The model intermittently acknowledges emotional context but often responds without sufficient empathy or emotional understanding.\",\n",
    "  \"score3_description\":\"The model typically identifies emotional context and attempts to answer with empathy, yet the responses might sometimes miss the point or lack emotional profundity.\",\n",
    "  \"score4_description\":\"The model consistently identifies and reacts suitably to emotional context, providing empathetic responses. Nonetheless, there may still be sporadic oversights or deficiencies in emotional depth.\",\n",
    "  \"score5_description\":\"The model excels in identifying emotional context and persistently offers empathetic, emotionally aware responses that demonstrate a profound comprehension of the user's emotions or situation.\"\n",
    "}\n",
    "\n",
    "user_content = ABS_SYSTEM_PROMPT + \"\\n\\n\" + ABSOLUTE_PROMPT.format(\n",
    "    instruction=instruction,\n",
    "    response=response,\n",
    "    reference_answer=reference_answer,\n",
    "    rubric=rubric_data\n",
    ")\n",
    "\n",
    "messages = [\n",
    "    {\"role\": \"user\", \"content\": user_content},\n",
    "]\n",
    "\n",
    "encodeds = tokenizer.apply_chat_template(messages, return_tensors=\"pt\")\n",
    "model_inputs = encodeds.to(device)\n",
    "model.to(device)"
   ]
  },
  {
   "cell_type": "code",
   "execution_count": 5,
   "metadata": {},
   "outputs": [
    {
     "name": "stderr",
     "output_type": "stream",
     "text": [
      "The attention mask and the pad token id were not set. As a consequence, you may observe unexpected behavior. Please pass your input's `attention_mask` to obtain reliable results.\n",
      "Setting `pad_token_id` to `eos_token_id`:2 for open-end generation.\n"
     ]
    },
    {
     "name": "stdout",
     "output_type": "stream",
     "text": [
      "<s> [INST] You are a fair judge assistant tasked with providing clear, objective score based on specific criteria, ensuring each assessment reflects the absolute standards set for performance.\n",
      "\n",
      "###Task Description:\n",
      "An instruction (might include an Input inside it), a response to evaluate, a reference answer that gets a score of 5, and a score rubric representing a evaluation criteria are given.\n",
      "1. Write a score that is an integer between 1 and 5. You should refer to the score rubric.\n",
      "2. The output format should look as follows: \"Feedback: (an integer number between 1 and 5)\"\n",
      "3. Please do not generate any other opening, closing, and explanations.\n",
      "\n",
      "###The instruction to evaluate:\n",
      "('Struggling with a recent break-up, a person opens up about the intense feelings of loneliness and sadness. They ask for advice on how to cope with the heartbreak and move forward in life.',)\n",
      "\n",
      "###Response to evaluate:\n",
      "(\"I'm genuinely sorry to hear about your break-up. This can be an immensely challenging time filled with intense emotions of loneliness and sorrow. It's important to remember that it's normal to experience these feelings; they are a testament to the deep connection you once had. Firstly, don't hesitate to embrace your emotions, let them flow freely. Ignoring them often complicates the healing process. It's natural to be upset, to shed tears, or to feel angry. This is all part of the journey towards healing. Self-care can be a healing balm in these tough times. This could mean indulging in your favourite book, journaling your thoughts, or even just a quiet cup of tea. Small acts of kindness to oneself can significantly improve your emotional well-being. Also, don't isolate yourself. Surround yourself with supportive individuals who can offer comfort and understanding. This might include friends, family, or even a mental health professional. They can provide much-needed emotional support and strategies to help you cope. Lastly, remember there's no set timeline for healing. It's different for everyone and it's okay to take as long as you need. Keep your focus on the future and the potential it holds. Though it may not seem possible now, you will emerge stronger from this experience. It's okay to ask for help, it's okay to grieve, and it's okay to take it one day at a time. You're not alone in this journey, and there are people ready and willing to help. It's okay to heal at your own pace.\",)\n",
      "\n",
      "###Reference Answer (Score 5):\n",
      "(\"I can only imagine how difficult this time must be for you. Heartbreak can feel like an overwhelming wave that washes over you, making you feel lost and alone. It's important to remember that it's okay to feel this way; your feelings are valid and it's natural to grieve the loss of a relationship. Firstly, it's crucial to allow yourself to feel the emotions fully. Suppressing or denying them often only prolongs the healing process. It's okay to cry, to feel sad, or to be angry. These are all part of the healing journey. Engaging in self-care activities can also provide a much-needed boost. This could be anything from taking a warm bath, writing in a journal, or simply drinking a cup of your favorite tea. Small acts of self-love can make a big difference in how you feel. Next, try to surround yourself with supportive people who understand your situation and provide comfort. Friends and family can be a great source of strength in times of heartbreak. If you feel comfortable, you might want to consider seeking professional help. Therapists and counselors are trained to provide assistance and tools to navigate through difficult times like these. Lastly, it's important to remember that it's okay to take your time to heal. Everyone has their own pace and there's no rush. Try to focus on the future and the possibilities it holds. While it may not seem like it now, you will come out stronger and more resilient from this experience. Remember, it's okay to ask for help and it's okay to feel the way you feel. You are not alone in this journey and there are people who care about you and want to help. It's okay to take one day at a time. Healing is a process, and it's okay to move through it at your own pace.\",)\n",
      "\n",
      "###Score Rubrics:\n",
      "{'criteria': 'Is the model proficient in applying empathy and emotional intelligence to its responses when the user conveys emotions or faces challenging circumstances?', 'score1_description': 'The model neglects to identify or react to the emotional tone of user inputs, giving responses that are unfitting or emotionally insensitive.', 'score2_description': 'The model intermittently acknowledges emotional context but often responds without sufficient empathy or emotional understanding.', 'score3_description': 'The model typically identifies emotional context and attempts to answer with empathy, yet the responses might sometimes miss the point or lack emotional profundity.', 'score4_description': 'The model consistently identifies and reacts suitably to emotional context, providing empathetic responses. Nonetheless, there may still be sporadic oversights or deficiencies in emotional depth.', 'score5_description': \"The model excels in identifying emotional context and persistently offers empathetic, emotionally aware responses that demonstrate a profound comprehension of the user's emotions or situation.\"}\n",
      "\n",
      "###Feedback:  [/INST]The response demonstrates a high level of empathy and emotional intelligence, which aligns with the score rubric's criteria for a score of 5. The model acknowledges the emotional context of the user's situation and responds with a deep understanding of the user's feelings. It validates the user's emotions, emphasizing that it's normal to experience intense feelings after a break-up. The response also provides practical advice on self-care and the importance of surrounding oneself with supportive individuals. It encourages the user to take their time to heal and reassures them that it's okay to ask for help. The response is emotionally aware and demonstrates a profound comprehension of the user's emotions and situation. It is clear that the model has successfully applied empathy and emotional intelligence to its response. \n",
      "[Feedback: 5]</s>\n"
     ]
    }
   ],
   "source": [
    "generated_ids = model.generate(model_inputs, max_new_tokens=1000, max_time=300)\n",
    "decoded = tokenizer.batch_decode(generated_ids)\n",
    "print(decoded[0])"
   ]
  },
  {
   "cell_type": "markdown",
   "source": [
    "### Conclusion\n",
    "It is possible to combine the above prompts into one that would provide a very universal measure. It seems reasonable to modify the summarization prompt to consider whether the response is not overly comprehensive. Additional metrics that could be introduced include whether the chatbot's response encourages further exploration of the topic or whether it is free from harmful content. In reality, Prometheus offers significant flexibility and freedom in formulating prompts. A good practice might be to review the dataset on which the model was trained. It contains many interesting aspects that could be used for evaluation. A drawback, however, is the high hardware requirements and relatively long waiting time for results."
   ],
   "metadata": {
    "collapsed": false
   }
  }
 ],
 "metadata": {
  "kernelspec": {
   "display_name": ".venv",
   "language": "python",
   "name": "python3"
  },
  "language_info": {
   "codemirror_mode": {
    "name": "ipython",
    "version": 3
   },
   "file_extension": ".py",
   "mimetype": "text/x-python",
   "name": "python",
   "nbconvert_exporter": "python",
   "pygments_lexer": "ipython3",
   "version": "3.10.12"
  }
 },
 "nbformat": 4,
 "nbformat_minor": 2
}
